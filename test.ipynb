{
 "cells": [
  {
   "cell_type": "code",
   "execution_count": 1,
   "metadata": {
    "collapsed": true
   },
   "outputs": [],
   "source": [
    "import mycode as mc"
   ]
  },
  {
   "cell_type": "code",
   "execution_count": 2,
   "outputs": [
    {
     "name": "stdout",
     "output_type": "stream",
     "text": [
      "100000\n"
     ]
    },
    {
     "data": {
      "text/plain": "['UNAMA and the Office of the United Nations High Commissioner for Human Rights are exploring the possibility of having several sites investigated by forensic experts simultaneously.',\n '30 field visits by the head of Mission and senior management to high-level community officials in the temporary security zone and its adjacent areas',\n 'The members of the Länder Governments include roughly 40 female ministers (with proportions varying between 8.3% in Saxony and 55.6% in Schleswig-Holstein).',\n '95. The LAC country Parties requested the support of the UNCCD secretariat, in collaboration with interested partners, in the development of a comprehensive regional project on benchmarks and indicators that strengthen the implementation of the RAP and its subregional components, particularly through the instruments already in place in its RCU, such as DESELAC.',\n '1. The Preparatory Committee for the 2005 Review Conference of the Parties to the Treaty on the Non-Proliferation of Nuclear Weapons held its second session from 28 April to 9 May 2003 at the Palais des Nations in Geneva further to the decision taken at its first session (NPT/CONF.2005/PC.I/21 and Corr.1, para. 9 (a)).',\n 'Introduction',\n ':: the processing of information on international criminal activity,',\n 'Item 4(a): Proposal for a new introduction to the UNECE Standard for Seed Potatoes',\n 'Despite its limited resources, UNCTAD had managed to undertake a number of activities in favour of Africa, including support for NEPAD.',\n 'The present revised report takes into account further verbal and written commentary and information received from member States and also updates the information provided in the previous report.']"
     },
     "execution_count": 2,
     "metadata": {},
     "output_type": "execute_result"
    }
   ],
   "source": [
    "sampled_lines = mc.sample_lines(\"data/UN-english.txt.gz\", lines=100000)\n",
    "\n",
    "print(len(sampled_lines))\n",
    "sampled_lines[:10]"
   ],
   "metadata": {
    "collapsed": false,
    "pycharm": {
     "name": "#%%\n"
    }
   }
  },
  {
   "cell_type": "code",
   "execution_count": 3,
   "outputs": [
    {
     "name": "stdout",
     "output_type": "stream",
     "text": [
      "CPU times: user 1min 35s, sys: 658 ms, total: 1min 36s\n",
      "Wall time: 1min 36s\n"
     ]
    },
    {
     "data": {
      "text/plain": "[[('unama', 'NNP'),\n  ('office', 'NNP'),\n  ('united', 'NNP'),\n  ('nations', 'NNP'),\n  ('high', 'NNP'),\n  ('commissioner', 'NNP'),\n  ('human', 'NNP'),\n  ('rights', 'NNPS'),\n  ('exploring', 'VBG'),\n  ('possibility', 'NN'),\n  ('several', 'JJ'),\n  ('sites', 'NNS'),\n  ('investigated', 'VBN'),\n  ('forensic', 'JJ'),\n  ('experts', 'NNS'),\n  ('simultaneously', 'RB')],\n [('field', 'NN'),\n  ('visits', 'NNS'),\n  ('head', 'NN'),\n  ('mission', 'NNP'),\n  ('senior', 'JJ'),\n  ('management', 'NN'),\n  ('high-level', 'JJ'),\n  ('community', 'NN'),\n  ('officials', 'NNS'),\n  ('temporary', 'JJ'),\n  ('security', 'NN'),\n  ('zone', 'NN'),\n  ('adjacent', 'JJ'),\n  ('areas', 'NNS')],\n [('members', 'NNS'),\n  ('länder', 'NNP'),\n  ('governments', 'NNP'),\n  ('include', 'VBP'),\n  ('roughly', 'RB'),\n  ('female', 'JJ'),\n  ('ministers', 'NNS'),\n  ('proportions', 'NNS'),\n  ('varying', 'VBG'),\n  ('saxony', 'NNP'),\n  ('schleswig-holstein', 'NNP')],\n [('lac', 'NNP'),\n  ('country', 'NN'),\n  ('parties', 'NNP'),\n  ('requested', 'VBD'),\n  ('support', 'NN'),\n  ('unccd', 'NNP'),\n  ('secretariat', 'NN'),\n  ('collaboration', 'NN'),\n  ('interested', 'JJ'),\n  ('partners', 'NNS'),\n  ('development', 'NN'),\n  ('comprehensive', 'JJ'),\n  ('regional', 'JJ'),\n  ('project', 'NN'),\n  ('benchmarks', 'NNS'),\n  ('indicators', 'NNS'),\n  ('strengthen', 'VBP'),\n  ('implementation', 'NN'),\n  ('rap', 'NNP'),\n  ('subregional', 'JJ'),\n  ('components', 'NNS'),\n  ('particularly', 'RB'),\n  ('instruments', 'NNS'),\n  ('already', 'RB'),\n  ('place', 'NN'),\n  ('rcu', 'NNP'),\n  ('deselac', 'NNP')],\n [('preparatory', 'NNP'),\n  ('committee', 'NNP'),\n  ('review', 'NNP'),\n  ('conference', 'NNP'),\n  ('parties', 'NNPS'),\n  ('treaty', 'NNP'),\n  ('non-proliferation', 'NN'),\n  ('nuclear', 'NNP'),\n  ('weapons', 'NNP'),\n  ('held', 'VBD'),\n  ('second', 'JJ'),\n  ('session', 'NN'),\n  ('april', 'NNP'),\n  ('may', 'NNP'),\n  ('palais', 'NNP'),\n  ('des', 'NNS'),\n  ('nations', 'NNP'),\n  ('geneva', 'NNP'),\n  ('decision', 'NN'),\n  ('taken', 'VBN'),\n  ('first', 'JJ'),\n  ('session', 'NN'),\n  ('npt/conf.2005/pc.i/21', 'NNP'),\n  ('corr.1', 'NNP'),\n  ('para', 'NN')],\n [('introduction', 'NN')],\n [('processing', 'NN'),\n  ('information', 'NN'),\n  ('international', 'JJ'),\n  ('criminal', 'JJ'),\n  ('activity', 'NN')],\n [('item', 'NN'),\n  ('proposal', 'NN'),\n  ('new', 'JJ'),\n  ('introduction', 'NN'),\n  ('unece', 'NNP'),\n  ('standard', 'NNP'),\n  ('seed', 'NNP'),\n  ('potatoes', 'NNP')],\n [('despite', 'IN'),\n  ('limited', 'JJ'),\n  ('resources', 'NNS'),\n  ('unctad', 'NNP'),\n  ('managed', 'VBN'),\n  ('undertake', 'VB'),\n  ('number', 'NN'),\n  ('activities', 'NNS'),\n  ('favour', 'NN'),\n  ('africa', 'NNP'),\n  ('including', 'VBG'),\n  ('support', 'NN'),\n  ('nepad', 'NNP')],\n [('present', 'JJ'),\n  ('revised', 'JJ'),\n  ('report', 'NN'),\n  ('takes', 'VBZ'),\n  ('account', 'NN'),\n  ('verbal', 'NN'),\n  ('written', 'VBN'),\n  ('commentary', 'JJ'),\n  ('information', 'NN'),\n  ('received', 'VBN'),\n  ('member', 'NN'),\n  ('states', 'NNS'),\n  ('also', 'RB'),\n  ('updates', 'VBZ'),\n  ('information', 'NN'),\n  ('provided', 'VBN'),\n  ('previous', 'JJ'),\n  ('report', 'NN')]]"
     },
     "execution_count": 3,
     "metadata": {},
     "output_type": "execute_result"
    }
   ],
   "source": [
    "%%time\n",
    "\n",
    "processed_sentences = mc.process_sentences(sampled_lines)\n",
    "processed_sentences[:10]"
   ],
   "metadata": {
    "collapsed": false,
    "pycharm": {
     "name": "#%%\n"
    }
   }
  },
  {
   "cell_type": "code",
   "execution_count": 4,
   "outputs": [
    {
     "name": "stdout",
     "output_type": "stream",
     "text": [
      "[(('ne', 'se', 'as', 'al'), 0), (('rt', 'ed', 'nt', 'ed'), 0), (('us', 'es', 'ns', 'rk'), 0), (('ic', 'on', 'on', 'ic'), 1), (('rt', 'on', 'th', 'al'), 0), (('ed', 'et', 'an', 'on'), 1), (('te', 'ce', 'on', 'es'), 0), (('an', 'ue', 'ed', 'ts'), 0), (('re', 'ar', 'ba', 'nt'), 1), (('ia', 'ay', 'et', 'am'), 0)]\n",
      "CPU times: user 638 ms, sys: 36.6 ms, total: 675 ms\n",
      "Wall time: 675 ms\n"
     ]
    }
   ],
   "source": [
    "%%time\n",
    "\n",
    "all_samples = mc.create_samples(processed_sentences, samples=50000)\n",
    "\n",
    "print(all_samples[:10])"
   ],
   "metadata": {
    "collapsed": false,
    "pycharm": {
     "name": "#%%\n"
    }
   }
  },
  {
   "cell_type": "code",
   "execution_count": 5,
   "outputs": [
    {
     "data": {
      "text/plain": "   V  ne  se  as  al  rt  ed  nt  us  es  ...  3d  e5  iq  yé  c-  éi  v/  -g  \\\n0  0   1   1   1   1   0   0   0   0   0  ...   0   0   0   0   0   0   0   0   \n1  0   0   0   0   0   1   2   1   0   0  ...   0   0   0   0   0   0   0   0   \n2  0   0   0   0   0   0   0   0   1   1  ...   0   0   0   0   0   0   0   0   \n3  1   0   0   0   0   0   0   0   0   0  ...   0   0   0   0   0   0   0   0   \n4  0   0   0   0   1   1   0   0   0   0  ...   0   0   0   0   0   0   0   0   \n5  1   0   0   0   0   0   1   0   0   0  ...   0   0   0   0   0   0   0   0   \n6  0   0   0   0   0   0   0   0   0   1  ...   0   0   0   0   0   0   0   0   \n7  0   0   0   0   0   0   1   0   0   0  ...   0   0   0   0   0   0   0   0   \n8  1   0   0   0   0   0   0   1   0   0  ...   0   0   0   0   0   0   0   0   \n9  0   0   0   0   0   0   0   0   0   0  ...   0   0   0   0   0   0   0   0   \n\n   /w  b5  \n0   0   0  \n1   0   0  \n2   0   0  \n3   0   0  \n4   0   0  \n5   0   0  \n6   0   0  \n7   0   0  \n8   0   0  \n9   0   0  \n\n[10 rows x 734 columns]",
      "text/html": "<div>\n<style scoped>\n    .dataframe tbody tr th:only-of-type {\n        vertical-align: middle;\n    }\n\n    .dataframe tbody tr th {\n        vertical-align: top;\n    }\n\n    .dataframe thead th {\n        text-align: right;\n    }\n</style>\n<table border=\"1\" class=\"dataframe\">\n  <thead>\n    <tr style=\"text-align: right;\">\n      <th></th>\n      <th>V</th>\n      <th>ne</th>\n      <th>se</th>\n      <th>as</th>\n      <th>al</th>\n      <th>rt</th>\n      <th>ed</th>\n      <th>nt</th>\n      <th>us</th>\n      <th>es</th>\n      <th>...</th>\n      <th>3d</th>\n      <th>e5</th>\n      <th>iq</th>\n      <th>yé</th>\n      <th>c-</th>\n      <th>éi</th>\n      <th>v/</th>\n      <th>-g</th>\n      <th>/w</th>\n      <th>b5</th>\n    </tr>\n  </thead>\n  <tbody>\n    <tr>\n      <th>0</th>\n      <td>0</td>\n      <td>1</td>\n      <td>1</td>\n      <td>1</td>\n      <td>1</td>\n      <td>0</td>\n      <td>0</td>\n      <td>0</td>\n      <td>0</td>\n      <td>0</td>\n      <td>...</td>\n      <td>0</td>\n      <td>0</td>\n      <td>0</td>\n      <td>0</td>\n      <td>0</td>\n      <td>0</td>\n      <td>0</td>\n      <td>0</td>\n      <td>0</td>\n      <td>0</td>\n    </tr>\n    <tr>\n      <th>1</th>\n      <td>0</td>\n      <td>0</td>\n      <td>0</td>\n      <td>0</td>\n      <td>0</td>\n      <td>1</td>\n      <td>2</td>\n      <td>1</td>\n      <td>0</td>\n      <td>0</td>\n      <td>...</td>\n      <td>0</td>\n      <td>0</td>\n      <td>0</td>\n      <td>0</td>\n      <td>0</td>\n      <td>0</td>\n      <td>0</td>\n      <td>0</td>\n      <td>0</td>\n      <td>0</td>\n    </tr>\n    <tr>\n      <th>2</th>\n      <td>0</td>\n      <td>0</td>\n      <td>0</td>\n      <td>0</td>\n      <td>0</td>\n      <td>0</td>\n      <td>0</td>\n      <td>0</td>\n      <td>1</td>\n      <td>1</td>\n      <td>...</td>\n      <td>0</td>\n      <td>0</td>\n      <td>0</td>\n      <td>0</td>\n      <td>0</td>\n      <td>0</td>\n      <td>0</td>\n      <td>0</td>\n      <td>0</td>\n      <td>0</td>\n    </tr>\n    <tr>\n      <th>3</th>\n      <td>1</td>\n      <td>0</td>\n      <td>0</td>\n      <td>0</td>\n      <td>0</td>\n      <td>0</td>\n      <td>0</td>\n      <td>0</td>\n      <td>0</td>\n      <td>0</td>\n      <td>...</td>\n      <td>0</td>\n      <td>0</td>\n      <td>0</td>\n      <td>0</td>\n      <td>0</td>\n      <td>0</td>\n      <td>0</td>\n      <td>0</td>\n      <td>0</td>\n      <td>0</td>\n    </tr>\n    <tr>\n      <th>4</th>\n      <td>0</td>\n      <td>0</td>\n      <td>0</td>\n      <td>0</td>\n      <td>1</td>\n      <td>1</td>\n      <td>0</td>\n      <td>0</td>\n      <td>0</td>\n      <td>0</td>\n      <td>...</td>\n      <td>0</td>\n      <td>0</td>\n      <td>0</td>\n      <td>0</td>\n      <td>0</td>\n      <td>0</td>\n      <td>0</td>\n      <td>0</td>\n      <td>0</td>\n      <td>0</td>\n    </tr>\n    <tr>\n      <th>5</th>\n      <td>1</td>\n      <td>0</td>\n      <td>0</td>\n      <td>0</td>\n      <td>0</td>\n      <td>0</td>\n      <td>1</td>\n      <td>0</td>\n      <td>0</td>\n      <td>0</td>\n      <td>...</td>\n      <td>0</td>\n      <td>0</td>\n      <td>0</td>\n      <td>0</td>\n      <td>0</td>\n      <td>0</td>\n      <td>0</td>\n      <td>0</td>\n      <td>0</td>\n      <td>0</td>\n    </tr>\n    <tr>\n      <th>6</th>\n      <td>0</td>\n      <td>0</td>\n      <td>0</td>\n      <td>0</td>\n      <td>0</td>\n      <td>0</td>\n      <td>0</td>\n      <td>0</td>\n      <td>0</td>\n      <td>1</td>\n      <td>...</td>\n      <td>0</td>\n      <td>0</td>\n      <td>0</td>\n      <td>0</td>\n      <td>0</td>\n      <td>0</td>\n      <td>0</td>\n      <td>0</td>\n      <td>0</td>\n      <td>0</td>\n    </tr>\n    <tr>\n      <th>7</th>\n      <td>0</td>\n      <td>0</td>\n      <td>0</td>\n      <td>0</td>\n      <td>0</td>\n      <td>0</td>\n      <td>1</td>\n      <td>0</td>\n      <td>0</td>\n      <td>0</td>\n      <td>...</td>\n      <td>0</td>\n      <td>0</td>\n      <td>0</td>\n      <td>0</td>\n      <td>0</td>\n      <td>0</td>\n      <td>0</td>\n      <td>0</td>\n      <td>0</td>\n      <td>0</td>\n    </tr>\n    <tr>\n      <th>8</th>\n      <td>1</td>\n      <td>0</td>\n      <td>0</td>\n      <td>0</td>\n      <td>0</td>\n      <td>0</td>\n      <td>0</td>\n      <td>1</td>\n      <td>0</td>\n      <td>0</td>\n      <td>...</td>\n      <td>0</td>\n      <td>0</td>\n      <td>0</td>\n      <td>0</td>\n      <td>0</td>\n      <td>0</td>\n      <td>0</td>\n      <td>0</td>\n      <td>0</td>\n      <td>0</td>\n    </tr>\n    <tr>\n      <th>9</th>\n      <td>0</td>\n      <td>0</td>\n      <td>0</td>\n      <td>0</td>\n      <td>0</td>\n      <td>0</td>\n      <td>0</td>\n      <td>0</td>\n      <td>0</td>\n      <td>0</td>\n      <td>...</td>\n      <td>0</td>\n      <td>0</td>\n      <td>0</td>\n      <td>0</td>\n      <td>0</td>\n      <td>0</td>\n      <td>0</td>\n      <td>0</td>\n      <td>0</td>\n      <td>0</td>\n    </tr>\n  </tbody>\n</table>\n<p>10 rows × 734 columns</p>\n</div>"
     },
     "execution_count": 5,
     "metadata": {},
     "output_type": "execute_result"
    }
   ],
   "source": [
    "fulldf = mc.create_df(all_samples)\n",
    "fulldf[:10]"
   ],
   "metadata": {
    "collapsed": false,
    "pycharm": {
     "name": "#%%\n"
    }
   }
  },
  {
   "cell_type": "code",
   "execution_count": 6,
   "outputs": [
    {
     "data": {
      "text/plain": "(40000, 40000, 10000, 10000)"
     },
     "execution_count": 6,
     "metadata": {},
     "output_type": "execute_result"
    }
   ],
   "source": [
    "train_X, train_y, test_X, test_y = mc.split_samples(fulldf, test_percent=20)\n",
    "len(train_X), len(train_y), len(test_X), len(test_y)"
   ],
   "metadata": {
    "collapsed": false,
    "pycharm": {
     "name": "#%%\n"
    }
   }
  },
  {
   "cell_type": "code",
   "execution_count": 7,
   "outputs": [
    {
     "name": "stdout",
     "output_type": "stream",
     "text": [
      "CPU times: user 48min 9s, sys: 937 ms, total: 48min 10s\n",
      "Wall time: 48min 26s\n"
     ]
    },
    {
     "data": {
      "text/plain": "(SVC(kernel='linear'), SVC())"
     },
     "execution_count": 7,
     "metadata": {},
     "output_type": "execute_result"
    }
   ],
   "source": [
    "%%time\n",
    "\n",
    "model_linear = mc.train(train_X, train_y, kernel='linear')\n",
    "model_rbf = mc.train(train_X, train_y, kernel='rbf')\n",
    "model_linear, model_rbf"
   ],
   "metadata": {
    "collapsed": false,
    "pycharm": {
     "name": "#%%\n"
    }
   }
  },
  {
   "cell_type": "code",
   "execution_count": 8,
   "outputs": [
    {
     "name": "stdout",
     "output_type": "stream",
     "text": [
      "SVM: rbf kernel\n",
      "_________________\n",
      "Precision: 0.0\n",
      "Recall: 0.0\n",
      "F1 Score: 0.0\n",
      "\n"
     ]
    },
    {
     "name": "stderr",
     "output_type": "stream",
     "text": [
      "/home/dominik/PyCharmProjects/lt2222-v22-a2/venv/lib/python3.10/site-packages/sklearn/metrics/_classification.py:1318: UndefinedMetricWarning: Precision is ill-defined and being set to 0.0 due to no predicted samples. Use `zero_division` parameter to control this behavior.\n",
      "  _warn_prf(average, modifier, msg_start, len(result))\n"
     ]
    },
    {
     "name": "stdout",
     "output_type": "stream",
     "text": [
      "SVM: linear kernel\n",
      "_________________\n",
      "Precision: 0.0\n",
      "Recall: 0.0\n",
      "F1 Score: 0.0\n",
      "\n",
      "CPU times: user 3min 7s, sys: 122 ms, total: 3min 7s\n",
      "Wall time: 3min 8s\n"
     ]
    }
   ],
   "source": [
    "%%time\n",
    "\n",
    "mc.eval_model(model_rbf, test_X, test_y)\n",
    "mc.eval_model(model_linear, test_X, test_y)"
   ],
   "metadata": {
    "collapsed": false,
    "pycharm": {
     "name": "#%%\n"
    }
   }
  },
  {
   "cell_type": "code",
   "execution_count": 9,
   "outputs": [
    {
     "name": "stdout",
     "output_type": "stream",
     "text": [
      "8841\n"
     ]
    }
   ],
   "source": [
    "# number of verbs in third position in all_samples\n",
    "print(sum([sample[1] for sample in all_samples]))"
   ],
   "metadata": {
    "collapsed": false,
    "pycharm": {
     "name": "#%%\n"
    }
   }
  },
  {
   "cell_type": "code",
   "execution_count": 9,
   "outputs": [],
   "source": [],
   "metadata": {
    "collapsed": false,
    "pycharm": {
     "name": "#%%\n"
    }
   }
  }
 ],
 "metadata": {
  "kernelspec": {
   "display_name": "Python 3",
   "language": "python",
   "name": "python3"
  },
  "language_info": {
   "codemirror_mode": {
    "name": "ipython",
    "version": 2
   },
   "file_extension": ".py",
   "mimetype": "text/x-python",
   "name": "python",
   "nbconvert_exporter": "python",
   "pygments_lexer": "ipython2",
   "version": "2.7.6"
  }
 },
 "nbformat": 4,
 "nbformat_minor": 0
}