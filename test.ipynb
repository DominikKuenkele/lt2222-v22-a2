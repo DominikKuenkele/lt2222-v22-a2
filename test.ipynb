{
 "cells": [
  {
   "cell_type": "code",
   "execution_count": 4,
   "metadata": {
    "collapsed": true
   },
   "outputs": [],
   "source": [
    "import mycode as mc"
   ]
  },
  {
   "cell_type": "code",
   "execution_count": 5,
   "outputs": [
    {
     "name": "stdout",
     "output_type": "stream",
     "text": [
      "100000\n"
     ]
    },
    {
     "data": {
      "text/plain": "['In order to ensure that afforestation takes place within the context of SFM, best practice must permeate all aspects involved in the development of new forests, including:',\n 'I have the honour to transmit herewith the letter of Vilayat Guliyev, Minister for Foreign Affairs of the Republic of Azerbaijan, concerning continuing aggression by the Republic of Armenia and its occupation of one fifth of the territory of the Republic of Azerbaijan, which represents a flagrant decade-long violation of Security Council resolutions 822 (1993), 853 (1993), 874 (1993) and 884 (1993) (see annex).',\n ':: Joint committees of the national statistical office and other agencies are established for surveys in specific subject matter fields;',\n 'If none of the preventive measures so far described stop the descent into war and chaos?',\n 'The State of Kuwait, out of the firm belief that social insurance is a basic right of individuals and a vital element in securing social stability, has also passed Law No. 61 of 1976, on social insurance, and its amendments.',\n 'Turkey 0.444 27.5093 0.1776 14,943 1,115 13,828 5,174 19,002',\n 'Total Recipients',\n 'g In a few cases, there is a difference between the total amount of the reclassified elements of loss and the claimed amount due to rounding.',\n 'The arrangement of the categories and sub-categories shall be as follows:',\n 'Report of the Special Committee on the Charter']"
     },
     "execution_count": 5,
     "metadata": {},
     "output_type": "execute_result"
    }
   ],
   "source": [
    "sampled_lines = mc.sample_lines(\"data/UN-english.txt.gz\", lines=100000)\n",
    "\n",
    "print(len(sampled_lines))\n",
    "sampled_lines[:10]"
   ],
   "metadata": {
    "collapsed": false,
    "pycharm": {
     "name": "#%%\n"
    }
   }
  },
  {
   "cell_type": "code",
   "execution_count": 6,
   "outputs": [
    {
     "name": "stdout",
     "output_type": "stream",
     "text": [
      "CPU times: user 1min 26s, sys: 553 ms, total: 1min 27s\n",
      "Wall time: 1min 27s\n"
     ]
    },
    {
     "data": {
      "text/plain": "[[('order', 'NN'),\n  ('ensure', 'VB'),\n  ('afforestation', 'NN'),\n  ('takes', 'VBZ'),\n  ('place', 'NN'),\n  ('within', 'IN'),\n  ('context', 'NN'),\n  ('sfm', 'NNP'),\n  ('best', 'JJS'),\n  ('practice', 'NN'),\n  ('must', 'MD'),\n  ('permeate', 'VB'),\n  ('aspects', 'NNS'),\n  ('involved', 'VBN'),\n  ('development', 'NN'),\n  ('new', 'JJ'),\n  ('forests', 'NNS'),\n  ('including', 'VBG')],\n [('honour', 'NN'),\n  ('transmit', 'VB'),\n  ('herewith', 'PDT'),\n  ('letter', 'NN'),\n  ('vilayat', 'NNP'),\n  ('guliyev', 'NNP'),\n  ('minister', 'NNP'),\n  ('foreign', 'NNP'),\n  ('affairs', 'NNP'),\n  ('republic', 'NNP'),\n  ('azerbaijan', 'NNP'),\n  ('concerning', 'VBG'),\n  ('continuing', 'VBG'),\n  ('aggression', 'NN'),\n  ('republic', 'NNP'),\n  ('armenia', 'NNP'),\n  ('occupation', 'NN'),\n  ('fifth', 'NN'),\n  ('territory', 'NN'),\n  ('republic', 'NNP'),\n  ('azerbaijan', 'NNP'),\n  ('represents', 'VBZ'),\n  ('flagrant', 'JJ'),\n  ('decade-long', 'JJ'),\n  ('violation', 'NN'),\n  ('security', 'NNP'),\n  ('council', 'NNP'),\n  ('resolutions', 'VBZ'),\n  ('see', 'VB'),\n  ('annex', 'RB')],\n [('joint', 'JJ'),\n  ('committees', 'NNS'),\n  ('national', 'JJ'),\n  ('statistical', 'JJ'),\n  ('office', 'NN'),\n  ('agencies', 'NNS'),\n  ('established', 'VBN'),\n  ('surveys', 'NNS'),\n  ('specific', 'JJ'),\n  ('subject', 'JJ'),\n  ('matter', 'NN'),\n  ('fields', 'NNS')],\n [('none', 'NN'),\n  ('preventive', 'JJ'),\n  ('measures', 'NNS'),\n  ('far', 'RB'),\n  ('described', 'JJ'),\n  ('stop', 'VB'),\n  ('descent', 'NN'),\n  ('war', 'NN'),\n  ('chaos', 'NN')],\n [('state', 'NNP'),\n  ('kuwait', 'NNP'),\n  ('firm', 'NN'),\n  ('belief', 'NN'),\n  ('social', 'JJ'),\n  ('insurance', 'NN'),\n  ('basic', 'JJ'),\n  ('right', 'NN'),\n  ('individuals', 'NNS'),\n  ('vital', 'JJ'),\n  ('element', 'NN'),\n  ('securing', 'VBG'),\n  ('social', 'JJ'),\n  ('stability', 'NN'),\n  ('also', 'RB'),\n  ('passed', 'VBN'),\n  ('law', 'NNP'),\n  ('social', 'JJ'),\n  ('insurance', 'NN'),\n  ('amendments', 'NNS')],\n [('turkey', 'NNP')],\n [('total', 'JJ'), ('recipients', 'NNS')],\n [('cases', 'NNS'),\n  ('difference', 'NN'),\n  ('total', 'JJ'),\n  ('amount', 'NN'),\n  ('reclassified', 'JJ'),\n  ('elements', 'NNS'),\n  ('loss', 'NN'),\n  ('claimed', 'JJ'),\n  ('amount', 'NN'),\n  ('due', 'JJ'),\n  ('rounding', 'VBG')],\n [('arrangement', 'NN'),\n  ('categories', 'NNS'),\n  ('sub-categories', 'NNS'),\n  ('shall', 'MD'),\n  ('follows', 'VBZ')],\n [('report', 'NN'),\n  ('special', 'NNP'),\n  ('committee', 'NNP'),\n  ('charter', 'NN')]]"
     },
     "execution_count": 6,
     "metadata": {},
     "output_type": "execute_result"
    }
   ],
   "source": [
    "%%time\n",
    "\n",
    "processed_sentences = mc.process_sentences(sampled_lines)\n",
    "processed_sentences[:10]"
   ],
   "metadata": {
    "collapsed": false,
    "pycharm": {
     "name": "#%%\n"
    }
   }
  },
  {
   "cell_type": "code",
   "execution_count": 22,
   "outputs": [
    {
     "name": "stdout",
     "output_type": "stream",
     "text": [
      "[(('ty', 'on', 'th', 'or'), 1), (('rt', 'ng', 'es', 'ed'), 0), (('nt', 'ng', 'ed', 'ts'), 0), (('on', 'an', 'ms', 'ed'), 0), (('ng', 'on', 'on', 'ns'), 1), (('ts', 'on', 'es', 'ne'), 0), (('ed', 'ns', 'gs', 'me'), 0), (('on', 'ta', 'pe', 'es'), 0), (('on', 'ed', 'ff', 'il'), 0), (('03', 'en', 'ly', 'ng'), 0)]\n",
      "CPU times: user 559 ms, sys: 33.3 ms, total: 592 ms\n",
      "Wall time: 593 ms\n"
     ]
    }
   ],
   "source": [
    "%%time\n",
    "\n",
    "all_samples = mc.create_samples(processed_sentences, samples=50000)\n",
    "\n",
    "print(all_samples[:10])"
   ],
   "metadata": {
    "collapsed": false,
    "pycharm": {
     "name": "#%%\n"
    }
   }
  },
  {
   "cell_type": "code",
   "execution_count": 23,
   "outputs": [
    {
     "data": {
      "text/plain": "   V  ty  on  th  or  rt  ng  es  ed  nt  ...  f-  vg  mg  94  m-  gp  çi  lx  \\\n0  1   1   1   1   1   0   0   0   0   0  ...   0   0   0   0   0   0   0   0   \n1  0   0   0   0   0   1   1   1   1   0  ...   0   0   0   0   0   0   0   0   \n2  0   0   0   0   0   0   1   0   1   1  ...   0   0   0   0   0   0   0   0   \n3  0   0   1   0   0   0   0   0   1   0  ...   0   0   0   0   0   0   0   0   \n4  1   0   2   0   0   0   1   0   0   0  ...   0   0   0   0   0   0   0   0   \n5  0   0   1   0   0   0   0   1   0   0  ...   0   0   0   0   0   0   0   0   \n6  0   0   0   0   0   0   0   0   1   0  ...   0   0   0   0   0   0   0   0   \n7  0   0   1   0   0   0   0   1   0   0  ...   0   0   0   0   0   0   0   0   \n8  0   0   1   0   0   0   0   0   1   0  ...   0   0   0   0   0   0   0   0   \n9  0   0   0   0   0   0   1   0   0   0  ...   0   0   0   0   0   0   0   0   \n\n   .l  ló  \n0   0   0  \n1   0   0  \n2   0   0  \n3   0   0  \n4   0   0  \n5   0   0  \n6   0   0  \n7   0   0  \n8   0   0  \n9   0   0  \n\n[10 rows x 764 columns]",
      "text/html": "<div>\n<style scoped>\n    .dataframe tbody tr th:only-of-type {\n        vertical-align: middle;\n    }\n\n    .dataframe tbody tr th {\n        vertical-align: top;\n    }\n\n    .dataframe thead th {\n        text-align: right;\n    }\n</style>\n<table border=\"1\" class=\"dataframe\">\n  <thead>\n    <tr style=\"text-align: right;\">\n      <th></th>\n      <th>V</th>\n      <th>ty</th>\n      <th>on</th>\n      <th>th</th>\n      <th>or</th>\n      <th>rt</th>\n      <th>ng</th>\n      <th>es</th>\n      <th>ed</th>\n      <th>nt</th>\n      <th>...</th>\n      <th>f-</th>\n      <th>vg</th>\n      <th>mg</th>\n      <th>94</th>\n      <th>m-</th>\n      <th>gp</th>\n      <th>çi</th>\n      <th>lx</th>\n      <th>.l</th>\n      <th>ló</th>\n    </tr>\n  </thead>\n  <tbody>\n    <tr>\n      <th>0</th>\n      <td>1</td>\n      <td>1</td>\n      <td>1</td>\n      <td>1</td>\n      <td>1</td>\n      <td>0</td>\n      <td>0</td>\n      <td>0</td>\n      <td>0</td>\n      <td>0</td>\n      <td>...</td>\n      <td>0</td>\n      <td>0</td>\n      <td>0</td>\n      <td>0</td>\n      <td>0</td>\n      <td>0</td>\n      <td>0</td>\n      <td>0</td>\n      <td>0</td>\n      <td>0</td>\n    </tr>\n    <tr>\n      <th>1</th>\n      <td>0</td>\n      <td>0</td>\n      <td>0</td>\n      <td>0</td>\n      <td>0</td>\n      <td>1</td>\n      <td>1</td>\n      <td>1</td>\n      <td>1</td>\n      <td>0</td>\n      <td>...</td>\n      <td>0</td>\n      <td>0</td>\n      <td>0</td>\n      <td>0</td>\n      <td>0</td>\n      <td>0</td>\n      <td>0</td>\n      <td>0</td>\n      <td>0</td>\n      <td>0</td>\n    </tr>\n    <tr>\n      <th>2</th>\n      <td>0</td>\n      <td>0</td>\n      <td>0</td>\n      <td>0</td>\n      <td>0</td>\n      <td>0</td>\n      <td>1</td>\n      <td>0</td>\n      <td>1</td>\n      <td>1</td>\n      <td>...</td>\n      <td>0</td>\n      <td>0</td>\n      <td>0</td>\n      <td>0</td>\n      <td>0</td>\n      <td>0</td>\n      <td>0</td>\n      <td>0</td>\n      <td>0</td>\n      <td>0</td>\n    </tr>\n    <tr>\n      <th>3</th>\n      <td>0</td>\n      <td>0</td>\n      <td>1</td>\n      <td>0</td>\n      <td>0</td>\n      <td>0</td>\n      <td>0</td>\n      <td>0</td>\n      <td>1</td>\n      <td>0</td>\n      <td>...</td>\n      <td>0</td>\n      <td>0</td>\n      <td>0</td>\n      <td>0</td>\n      <td>0</td>\n      <td>0</td>\n      <td>0</td>\n      <td>0</td>\n      <td>0</td>\n      <td>0</td>\n    </tr>\n    <tr>\n      <th>4</th>\n      <td>1</td>\n      <td>0</td>\n      <td>2</td>\n      <td>0</td>\n      <td>0</td>\n      <td>0</td>\n      <td>1</td>\n      <td>0</td>\n      <td>0</td>\n      <td>0</td>\n      <td>...</td>\n      <td>0</td>\n      <td>0</td>\n      <td>0</td>\n      <td>0</td>\n      <td>0</td>\n      <td>0</td>\n      <td>0</td>\n      <td>0</td>\n      <td>0</td>\n      <td>0</td>\n    </tr>\n    <tr>\n      <th>5</th>\n      <td>0</td>\n      <td>0</td>\n      <td>1</td>\n      <td>0</td>\n      <td>0</td>\n      <td>0</td>\n      <td>0</td>\n      <td>1</td>\n      <td>0</td>\n      <td>0</td>\n      <td>...</td>\n      <td>0</td>\n      <td>0</td>\n      <td>0</td>\n      <td>0</td>\n      <td>0</td>\n      <td>0</td>\n      <td>0</td>\n      <td>0</td>\n      <td>0</td>\n      <td>0</td>\n    </tr>\n    <tr>\n      <th>6</th>\n      <td>0</td>\n      <td>0</td>\n      <td>0</td>\n      <td>0</td>\n      <td>0</td>\n      <td>0</td>\n      <td>0</td>\n      <td>0</td>\n      <td>1</td>\n      <td>0</td>\n      <td>...</td>\n      <td>0</td>\n      <td>0</td>\n      <td>0</td>\n      <td>0</td>\n      <td>0</td>\n      <td>0</td>\n      <td>0</td>\n      <td>0</td>\n      <td>0</td>\n      <td>0</td>\n    </tr>\n    <tr>\n      <th>7</th>\n      <td>0</td>\n      <td>0</td>\n      <td>1</td>\n      <td>0</td>\n      <td>0</td>\n      <td>0</td>\n      <td>0</td>\n      <td>1</td>\n      <td>0</td>\n      <td>0</td>\n      <td>...</td>\n      <td>0</td>\n      <td>0</td>\n      <td>0</td>\n      <td>0</td>\n      <td>0</td>\n      <td>0</td>\n      <td>0</td>\n      <td>0</td>\n      <td>0</td>\n      <td>0</td>\n    </tr>\n    <tr>\n      <th>8</th>\n      <td>0</td>\n      <td>0</td>\n      <td>1</td>\n      <td>0</td>\n      <td>0</td>\n      <td>0</td>\n      <td>0</td>\n      <td>0</td>\n      <td>1</td>\n      <td>0</td>\n      <td>...</td>\n      <td>0</td>\n      <td>0</td>\n      <td>0</td>\n      <td>0</td>\n      <td>0</td>\n      <td>0</td>\n      <td>0</td>\n      <td>0</td>\n      <td>0</td>\n      <td>0</td>\n    </tr>\n    <tr>\n      <th>9</th>\n      <td>0</td>\n      <td>0</td>\n      <td>0</td>\n      <td>0</td>\n      <td>0</td>\n      <td>0</td>\n      <td>1</td>\n      <td>0</td>\n      <td>0</td>\n      <td>0</td>\n      <td>...</td>\n      <td>0</td>\n      <td>0</td>\n      <td>0</td>\n      <td>0</td>\n      <td>0</td>\n      <td>0</td>\n      <td>0</td>\n      <td>0</td>\n      <td>0</td>\n      <td>0</td>\n    </tr>\n  </tbody>\n</table>\n<p>10 rows × 764 columns</p>\n</div>"
     },
     "execution_count": 23,
     "metadata": {},
     "output_type": "execute_result"
    }
   ],
   "source": [
    "fulldf = mc.create_df(all_samples)\n",
    "fulldf[:10]"
   ],
   "metadata": {
    "collapsed": false,
    "pycharm": {
     "name": "#%%\n"
    }
   }
  },
  {
   "cell_type": "code",
   "execution_count": 24,
   "outputs": [
    {
     "data": {
      "text/plain": "(40000, 40000, 10000, 10000)"
     },
     "execution_count": 24,
     "metadata": {},
     "output_type": "execute_result"
    }
   ],
   "source": [
    "train_X, train_y, test_X, test_y = mc.split_samples(fulldf, test_percent=20)\n",
    "len(train_X), len(train_y), len(test_X), len(test_y)"
   ],
   "metadata": {
    "collapsed": false,
    "pycharm": {
     "name": "#%%\n"
    }
   }
  },
  {
   "cell_type": "code",
   "execution_count": 25,
   "outputs": [
    {
     "name": "stdout",
     "output_type": "stream",
     "text": [
      "CPU times: user 47min 49s, sys: 596 ms, total: 47min 50s\n",
      "Wall time: 47min 56s\n"
     ]
    },
    {
     "data": {
      "text/plain": "(SVC(kernel='linear'), SVC())"
     },
     "execution_count": 25,
     "metadata": {},
     "output_type": "execute_result"
    }
   ],
   "source": [
    "%%time\n",
    "\n",
    "model_linear = mc.train(train_X, train_y, kernel='linear')\n",
    "model_rbf = mc.train(train_X, train_y, kernel='rbf')\n",
    "model_linear, model_rbf"
   ],
   "metadata": {
    "collapsed": false,
    "pycharm": {
     "name": "#%%\n"
    }
   }
  },
  {
   "cell_type": "code",
   "execution_count": 26,
   "outputs": [
    {
     "name": "stdout",
     "output_type": "stream",
     "text": [
      "Kernel: linear\n",
      "_________________\n",
      "Precision: 0.125\n",
      "Recall: 0.0011389521640091116\n",
      "F1 Score: 0.002257336343115124\n",
      "Kernel: rbf\n",
      "_________________\n",
      "Precision: 0.0\n",
      "Recall: 0.0\n",
      "F1 Score: 0.0\n",
      "CPU times: user 3min 12s, sys: 19.9 ms, total: 3min 12s\n",
      "Wall time: 3min 13s\n"
     ]
    },
    {
     "name": "stderr",
     "output_type": "stream",
     "text": [
      "/home/dominik/PyCharmProjects/lt2222-v22-a2/venv/lib/python3.10/site-packages/sklearn/metrics/_classification.py:1318: UndefinedMetricWarning: Precision is ill-defined and being set to 0.0 due to no predicted samples. Use `zero_division` parameter to control this behavior.\n",
      "  _warn_prf(average, modifier, msg_start, len(result))\n"
     ]
    }
   ],
   "source": [
    "%%time\n",
    "\n",
    "mc.eval_model(model_linear, test_X, test_y)\n",
    "mc.eval_model(model_rbf, test_X, test_y)"
   ],
   "metadata": {
    "collapsed": false,
    "pycharm": {
     "name": "#%%\n"
    }
   }
  },
  {
   "cell_type": "code",
   "execution_count": 26,
   "outputs": [],
   "source": [],
   "metadata": {
    "collapsed": false,
    "pycharm": {
     "name": "#%%\n"
    }
   }
  }
 ],
 "metadata": {
  "kernelspec": {
   "display_name": "Python 3",
   "language": "python",
   "name": "python3"
  },
  "language_info": {
   "codemirror_mode": {
    "name": "ipython",
    "version": 2
   },
   "file_extension": ".py",
   "mimetype": "text/x-python",
   "name": "python",
   "nbconvert_exporter": "python",
   "pygments_lexer": "ipython2",
   "version": "2.7.6"
  }
 },
 "nbformat": 4,
 "nbformat_minor": 0
}