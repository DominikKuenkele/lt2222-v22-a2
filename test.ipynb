{
 "cells": [
  {
   "cell_type": "code",
   "execution_count": 1,
   "metadata": {
    "collapsed": true
   },
   "outputs": [],
   "source": [
    "import mycode as mc"
   ]
  },
  {
   "cell_type": "code",
   "execution_count": 2,
   "outputs": [
    {
     "name": "stdout",
     "output_type": "stream",
     "text": [
      "100000\n"
     ]
    },
    {
     "data": {
      "text/plain": "['Croatia',\n 'A/58/52* Reissued for technical reasons [A C E F R S]',\n 'Rest and special breaks during the work are regulated in the General Provisions on the Rest Regime which are approved by the Ministry of Social Security and Labour.',\n 'He therefore invited the Commission to give due consideration to that issue when it embarked on the second reading of the draft articles.',\n 'The Secretariat is of the opinion that in many areas of operations, and as specifically concerns the practical aspects of the contingent-owned equipment methodology -- e.g., speed of processing and settlement of claims, more accurate budgeting and improved mission planning and deployment -- the new methodology has been a great improvement over the old one.',\n 'If the offender has taken refuge in a foreign country his extradition shall be requested so that he may be tried under Ethiopian Law.\"',\n 'The Committee adopted a draft resolution2 on the web site, concurring with the Secretary-General on the need to enhance the technological infrastructure of the Department of Public Information in order to both widen its outreach and improve the site.',\n '9. Agrees that a study should be conducted on the possibility of creating an international entity to provide for coordination and the means of realistically optimizing the effectiveness of space-based services for use in disaster management and that the study should be prepared by an ad hoc expert group, with experts to be provided by interested Member States and relevant international organizations, and requests the Committee to review progress in the work of the ad hoc expert group, at its forty-eighth session, in 2005;',\n 'We want to pay tribute, in particular, to the excellent work done by the co-Chairmen, Messrs. Felipe Paolillo and Phil Burgess.',\n '2. The situation in the Central African Republic']"
     },
     "execution_count": 2,
     "metadata": {},
     "output_type": "execute_result"
    }
   ],
   "source": [
    "sampled_lines = mc.sample_lines(\"data/UN-english.txt.gz\", lines=100000)\n",
    "\n",
    "print(len(sampled_lines))\n",
    "sampled_lines[:10]"
   ],
   "metadata": {
    "collapsed": false,
    "pycharm": {
     "name": "#%%\n"
    }
   }
  },
  {
   "cell_type": "code",
   "execution_count": 3,
   "outputs": [
    {
     "name": "stdout",
     "output_type": "stream",
     "text": [
      "CPU times: user 1min 40s, sys: 771 ms, total: 1min 41s\n",
      "Wall time: 1min 41s\n"
     ]
    },
    {
     "data": {
      "text/plain": "[[('croatia', 'NN')],\n [('a/58/52', 'NNP'),\n  ('reissued', 'NNP'),\n  ('technical', 'JJ'),\n  ('reasons', 'NNS')],\n [('rest', 'NNP'),\n  ('special', 'JJ'),\n  ('breaks', 'NNS'),\n  ('work', 'NN'),\n  ('regulated', 'VBN'),\n  ('general', 'NNP'),\n  ('provisions', 'NNPS'),\n  ('rest', 'NNP'),\n  ('regime', 'NNP'),\n  ('approved', 'VBN'),\n  ('ministry', 'NNP'),\n  ('social', 'NNP'),\n  ('security', 'NNP'),\n  ('labour', 'NNP')],\n [('therefore', 'RB'),\n  ('invited', 'VBD'),\n  ('commission', 'NNP'),\n  ('give', 'VB'),\n  ('due', 'JJ'),\n  ('consideration', 'NN'),\n  ('issue', 'NN'),\n  ('embarked', 'VBD'),\n  ('second', 'JJ'),\n  ('reading', 'NN'),\n  ('draft', 'NN'),\n  ('articles', 'NNS')],\n [('secretariat', 'NNP'),\n  ('opinion', 'NN'),\n  ('many', 'JJ'),\n  ('areas', 'NNS'),\n  ('operations', 'NNS'),\n  ('specifically', 'RB'),\n  ('concerns', 'VBZ'),\n  ('practical', 'JJ'),\n  ('aspects', 'NNS'),\n  ('contingent-owned', 'JJ'),\n  ('equipment', 'NN'),\n  ('methodology', 'NN'),\n  ('e.g.', 'NN'),\n  ('speed', 'NN'),\n  ('processing', 'NN'),\n  ('settlement', 'NN'),\n  ('claims', 'NNS'),\n  ('accurate', 'JJ'),\n  ('budgeting', 'NN'),\n  ('improved', 'JJ'),\n  ('mission', 'NN'),\n  ('planning', 'NN'),\n  ('deployment', 'NN'),\n  ('new', 'JJ'),\n  ('methodology', 'NN'),\n  ('great', 'JJ'),\n  ('improvement', 'NN'),\n  ('old', 'JJ')],\n [('offender', 'NN'),\n  ('taken', 'VBN'),\n  ('refuge', 'NN'),\n  ('foreign', 'JJ'),\n  ('country', 'NN'),\n  ('extradition', 'NN'),\n  ('shall', 'MD'),\n  ('requested', 'VBN'),\n  ('may', 'MD'),\n  ('tried', 'VBN'),\n  ('ethiopian', 'JJ'),\n  ('law', 'NNP')],\n [('committee', 'NNP'),\n  ('adopted', 'VBD'),\n  ('draft', 'NN'),\n  ('resolution2', 'NN'),\n  ('web', 'NN'),\n  ('site', 'NN'),\n  ('concurring', 'VBG'),\n  ('secretary-general', 'JJ'),\n  ('need', 'NN'),\n  ('enhance', 'VB'),\n  ('technological', 'JJ'),\n  ('infrastructure', 'NN'),\n  ('department', 'NNP'),\n  ('public', 'NNP'),\n  ('information', 'NNP'),\n  ('order', 'NN'),\n  ('widen', 'VB'),\n  ('outreach', 'NN'),\n  ('improve', 'VB'),\n  ('site', 'NN')],\n [('agrees', 'NNS'),\n  ('study', 'NN'),\n  ('conducted', 'VBN'),\n  ('possibility', 'NN'),\n  ('creating', 'VBG'),\n  ('international', 'JJ'),\n  ('entity', 'NN'),\n  ('provide', 'VB'),\n  ('coordination', 'NN'),\n  ('means', 'NNS'),\n  ('realistically', 'RB'),\n  ('optimizing', 'VBG'),\n  ('effectiveness', 'NN'),\n  ('space-based', 'JJ'),\n  ('services', 'NNS'),\n  ('use', 'NN'),\n  ('disaster', 'NN'),\n  ('management', 'NN'),\n  ('study', 'NN'),\n  ('prepared', 'VBN'),\n  ('ad', 'NN'),\n  ('hoc', 'NN'),\n  ('expert', 'NN'),\n  ('group', 'NN'),\n  ('experts', 'NNS'),\n  ('provided', 'VBN'),\n  ('interested', 'JJ'),\n  ('member', 'NNP'),\n  ('states', 'NNPS'),\n  ('relevant', 'JJ'),\n  ('international', 'JJ'),\n  ('organizations', 'NNS'),\n  ('requests', 'VBZ'),\n  ('committee', 'NNP'),\n  ('review', 'VB'),\n  ('progress', 'NN'),\n  ('work', 'NN'),\n  ('ad', 'NN'),\n  ('hoc', 'NN'),\n  ('expert', 'NN'),\n  ('group', 'NN'),\n  ('forty-eighth', 'JJ'),\n  ('session', 'NN')],\n [('want', 'VBP'),\n  ('pay', 'VB'),\n  ('tribute', 'NN'),\n  ('particular', 'JJ'),\n  ('excellent', 'JJ'),\n  ('work', 'NN'),\n  ('done', 'VBN'),\n  ('co-chairmen', 'NNS'),\n  ('messrs.', 'NNPS'),\n  ('felipe', 'NNP'),\n  ('paolillo', 'NNP'),\n  ('phil', 'NNP'),\n  ('burgess', 'NNP')],\n [('situation', 'NN'),\n  ('central', 'JJ'),\n  ('african', 'NNP'),\n  ('republic', 'NNP')]]"
     },
     "execution_count": 3,
     "metadata": {},
     "output_type": "execute_result"
    }
   ],
   "source": [
    "%%time\n",
    "\n",
    "processed_sentences = mc.process_sentences(sampled_lines)\n",
    "processed_sentences[:10]"
   ],
   "metadata": {
    "collapsed": false,
    "pycharm": {
     "name": "#%%\n"
    }
   }
  },
  {
   "cell_type": "code",
   "execution_count": 4,
   "outputs": [
    {
     "name": "stdout",
     "output_type": "stream",
     "text": [
      "[(('ff', 'rs', 'ed', 'ly'), 1), (('st', 'ed', 'us', 'ns'), 0), (('ge', 'rd', 'cm', 'or'), 0), (('on', 'it', 'al', 'se'), 0), (('te', 'ty', 'nt', 've'), 0), (('ed', 'dy', 'mg', 'ed'), 0), (('rd', 'rs', 'on', 'ed'), 0), (('ed', 'ns', 'ds', 'ds'), 1), (('ce', 'nt', 'ht', 'ne'), 0), (('ap', 'ad', 'te', 'gh'), 1)]\n",
      "CPU times: user 548 ms, sys: 43.1 ms, total: 591 ms\n",
      "Wall time: 591 ms\n"
     ]
    }
   ],
   "source": [
    "%%time\n",
    "\n",
    "all_samples = mc.create_samples(processed_sentences, samples=50000)\n",
    "\n",
    "print(all_samples[:10])"
   ],
   "metadata": {
    "collapsed": false,
    "pycharm": {
     "name": "#%%\n"
    }
   }
  },
  {
   "cell_type": "code",
   "execution_count": 5,
   "outputs": [
    {
     "data": {
      "text/plain": "   N  ff_-2  rs_-1  ed_1  ly_2  st_-2  ed_-1  us_1  ns_2  ge_-2  ...  ,2_1  \\\n0  1      1      1     1     1      0      0     0     0      0  ...     0   \n1  0      0      0     0     0      1      1     1     1      0  ...     0   \n2  0      0      0     0     0      0      0     0     0      1  ...     0   \n3  0      0      0     0     0      0      0     0     0      0  ...     0   \n4  0      0      0     0     0      0      0     0     0      0  ...     0   \n5  0      0      0     0     0      0      0     0     0      0  ...     0   \n6  0      0      1     0     0      0      0     0     0      0  ...     0   \n7  1      0      0     0     0      0      0     0     0      0  ...     0   \n8  0      0      0     0     0      0      0     0     0      0  ...     0   \n9  1      0      0     0     0      0      0     0     0      0  ...     0   \n\n   -8_2  rf_-1  xi_1  wc_2  44_1  nv_-1  mc_1  o3_-2  uo_1  \n0     0      0     0     0     0      0     0      0     0  \n1     0      0     0     0     0      0     0      0     0  \n2     0      0     0     0     0      0     0      0     0  \n3     0      0     0     0     0      0     0      0     0  \n4     0      0     0     0     0      0     0      0     0  \n5     0      0     0     0     0      0     0      0     0  \n6     0      0     0     0     0      0     0      0     0  \n7     0      0     0     0     0      0     0      0     0  \n8     0      0     0     0     0      0     0      0     0  \n9     0      0     0     0     0      0     0      0     0  \n\n[10 rows x 2140 columns]",
      "text/html": "<div>\n<style scoped>\n    .dataframe tbody tr th:only-of-type {\n        vertical-align: middle;\n    }\n\n    .dataframe tbody tr th {\n        vertical-align: top;\n    }\n\n    .dataframe thead th {\n        text-align: right;\n    }\n</style>\n<table border=\"1\" class=\"dataframe\">\n  <thead>\n    <tr style=\"text-align: right;\">\n      <th></th>\n      <th>N</th>\n      <th>ff_-2</th>\n      <th>rs_-1</th>\n      <th>ed_1</th>\n      <th>ly_2</th>\n      <th>st_-2</th>\n      <th>ed_-1</th>\n      <th>us_1</th>\n      <th>ns_2</th>\n      <th>ge_-2</th>\n      <th>...</th>\n      <th>,2_1</th>\n      <th>-8_2</th>\n      <th>rf_-1</th>\n      <th>xi_1</th>\n      <th>wc_2</th>\n      <th>44_1</th>\n      <th>nv_-1</th>\n      <th>mc_1</th>\n      <th>o3_-2</th>\n      <th>uo_1</th>\n    </tr>\n  </thead>\n  <tbody>\n    <tr>\n      <th>0</th>\n      <td>1</td>\n      <td>1</td>\n      <td>1</td>\n      <td>1</td>\n      <td>1</td>\n      <td>0</td>\n      <td>0</td>\n      <td>0</td>\n      <td>0</td>\n      <td>0</td>\n      <td>...</td>\n      <td>0</td>\n      <td>0</td>\n      <td>0</td>\n      <td>0</td>\n      <td>0</td>\n      <td>0</td>\n      <td>0</td>\n      <td>0</td>\n      <td>0</td>\n      <td>0</td>\n    </tr>\n    <tr>\n      <th>1</th>\n      <td>0</td>\n      <td>0</td>\n      <td>0</td>\n      <td>0</td>\n      <td>0</td>\n      <td>1</td>\n      <td>1</td>\n      <td>1</td>\n      <td>1</td>\n      <td>0</td>\n      <td>...</td>\n      <td>0</td>\n      <td>0</td>\n      <td>0</td>\n      <td>0</td>\n      <td>0</td>\n      <td>0</td>\n      <td>0</td>\n      <td>0</td>\n      <td>0</td>\n      <td>0</td>\n    </tr>\n    <tr>\n      <th>2</th>\n      <td>0</td>\n      <td>0</td>\n      <td>0</td>\n      <td>0</td>\n      <td>0</td>\n      <td>0</td>\n      <td>0</td>\n      <td>0</td>\n      <td>0</td>\n      <td>1</td>\n      <td>...</td>\n      <td>0</td>\n      <td>0</td>\n      <td>0</td>\n      <td>0</td>\n      <td>0</td>\n      <td>0</td>\n      <td>0</td>\n      <td>0</td>\n      <td>0</td>\n      <td>0</td>\n    </tr>\n    <tr>\n      <th>3</th>\n      <td>0</td>\n      <td>0</td>\n      <td>0</td>\n      <td>0</td>\n      <td>0</td>\n      <td>0</td>\n      <td>0</td>\n      <td>0</td>\n      <td>0</td>\n      <td>0</td>\n      <td>...</td>\n      <td>0</td>\n      <td>0</td>\n      <td>0</td>\n      <td>0</td>\n      <td>0</td>\n      <td>0</td>\n      <td>0</td>\n      <td>0</td>\n      <td>0</td>\n      <td>0</td>\n    </tr>\n    <tr>\n      <th>4</th>\n      <td>0</td>\n      <td>0</td>\n      <td>0</td>\n      <td>0</td>\n      <td>0</td>\n      <td>0</td>\n      <td>0</td>\n      <td>0</td>\n      <td>0</td>\n      <td>0</td>\n      <td>...</td>\n      <td>0</td>\n      <td>0</td>\n      <td>0</td>\n      <td>0</td>\n      <td>0</td>\n      <td>0</td>\n      <td>0</td>\n      <td>0</td>\n      <td>0</td>\n      <td>0</td>\n    </tr>\n    <tr>\n      <th>5</th>\n      <td>0</td>\n      <td>0</td>\n      <td>0</td>\n      <td>0</td>\n      <td>0</td>\n      <td>0</td>\n      <td>0</td>\n      <td>0</td>\n      <td>0</td>\n      <td>0</td>\n      <td>...</td>\n      <td>0</td>\n      <td>0</td>\n      <td>0</td>\n      <td>0</td>\n      <td>0</td>\n      <td>0</td>\n      <td>0</td>\n      <td>0</td>\n      <td>0</td>\n      <td>0</td>\n    </tr>\n    <tr>\n      <th>6</th>\n      <td>0</td>\n      <td>0</td>\n      <td>1</td>\n      <td>0</td>\n      <td>0</td>\n      <td>0</td>\n      <td>0</td>\n      <td>0</td>\n      <td>0</td>\n      <td>0</td>\n      <td>...</td>\n      <td>0</td>\n      <td>0</td>\n      <td>0</td>\n      <td>0</td>\n      <td>0</td>\n      <td>0</td>\n      <td>0</td>\n      <td>0</td>\n      <td>0</td>\n      <td>0</td>\n    </tr>\n    <tr>\n      <th>7</th>\n      <td>1</td>\n      <td>0</td>\n      <td>0</td>\n      <td>0</td>\n      <td>0</td>\n      <td>0</td>\n      <td>0</td>\n      <td>0</td>\n      <td>0</td>\n      <td>0</td>\n      <td>...</td>\n      <td>0</td>\n      <td>0</td>\n      <td>0</td>\n      <td>0</td>\n      <td>0</td>\n      <td>0</td>\n      <td>0</td>\n      <td>0</td>\n      <td>0</td>\n      <td>0</td>\n    </tr>\n    <tr>\n      <th>8</th>\n      <td>0</td>\n      <td>0</td>\n      <td>0</td>\n      <td>0</td>\n      <td>0</td>\n      <td>0</td>\n      <td>0</td>\n      <td>0</td>\n      <td>0</td>\n      <td>0</td>\n      <td>...</td>\n      <td>0</td>\n      <td>0</td>\n      <td>0</td>\n      <td>0</td>\n      <td>0</td>\n      <td>0</td>\n      <td>0</td>\n      <td>0</td>\n      <td>0</td>\n      <td>0</td>\n    </tr>\n    <tr>\n      <th>9</th>\n      <td>1</td>\n      <td>0</td>\n      <td>0</td>\n      <td>0</td>\n      <td>0</td>\n      <td>0</td>\n      <td>0</td>\n      <td>0</td>\n      <td>0</td>\n      <td>0</td>\n      <td>...</td>\n      <td>0</td>\n      <td>0</td>\n      <td>0</td>\n      <td>0</td>\n      <td>0</td>\n      <td>0</td>\n      <td>0</td>\n      <td>0</td>\n      <td>0</td>\n      <td>0</td>\n    </tr>\n  </tbody>\n</table>\n<p>10 rows × 2140 columns</p>\n</div>"
     },
     "execution_count": 5,
     "metadata": {},
     "output_type": "execute_result"
    }
   ],
   "source": [
    "fulldf = mc.create_df(all_samples)\n",
    "fulldf[:10]"
   ],
   "metadata": {
    "collapsed": false,
    "pycharm": {
     "name": "#%%\n"
    }
   }
  },
  {
   "cell_type": "code",
   "execution_count": 6,
   "outputs": [
    {
     "data": {
      "text/plain": "(40000, 40000, 10000, 10000)"
     },
     "execution_count": 6,
     "metadata": {},
     "output_type": "execute_result"
    }
   ],
   "source": [
    "train_X, train_y, test_X, test_y = mc.split_samples(fulldf, test_percent=20)\n",
    "len(train_X), len(train_y), len(test_X), len(test_y)"
   ],
   "metadata": {
    "collapsed": false,
    "pycharm": {
     "name": "#%%\n"
    }
   }
  },
  {
   "cell_type": "code",
   "execution_count": 7,
   "outputs": [
    {
     "name": "stdout",
     "output_type": "stream",
     "text": [
      "CPU times: user 1h 36min 46s, sys: 2.9 s, total: 1h 36min 48s\n",
      "Wall time: 1h 37min 9s\n"
     ]
    },
    {
     "data": {
      "text/plain": "(SVC(kernel='linear'), SVC())"
     },
     "execution_count": 7,
     "metadata": {},
     "output_type": "execute_result"
    }
   ],
   "source": [
    "%%time\n",
    "\n",
    "model_linear = mc.train(train_X, train_y, kernel='linear')\n",
    "model_rbf = mc.train(train_X, train_y, kernel='rbf')\n",
    "model_linear, model_rbf"
   ],
   "metadata": {
    "collapsed": false,
    "pycharm": {
     "name": "#%%\n"
    }
   }
  },
  {
   "cell_type": "code",
   "execution_count": 8,
   "outputs": [
    {
     "name": "stdout",
     "output_type": "stream",
     "text": [
      "SVM: rbf kernel\n",
      "_________________\n",
      "Precision: 0.6662198391420912\n",
      "Recall: 0.8787976209612602\n",
      "F1 Score: 0.7578845220766617\n",
      "\n",
      "SVM: linear kernel\n",
      "_________________\n",
      "Precision: 0.6597424684159378\n",
      "Recall: 0.8730107699726732\n",
      "F1 Score: 0.7515394727738186\n",
      "\n",
      "CPU times: user 16min 14s, sys: 392 ms, total: 16min 14s\n",
      "Wall time: 16min 18s\n"
     ]
    }
   ],
   "source": [
    "%%time\n",
    "\n",
    "mc.eval_model(model_rbf, test_X, test_y)\n",
    "mc.eval_model(model_linear, test_X, test_y)"
   ],
   "metadata": {
    "collapsed": false,
    "pycharm": {
     "name": "#%%\n"
    }
   }
  },
  {
   "cell_type": "code",
   "execution_count": 9,
   "outputs": [
    {
     "name": "stdout",
     "output_type": "stream",
     "text": [
      "31269\n"
     ]
    }
   ],
   "source": [
    "# number of verbs in third position in all_samples\n",
    "print(sum([sample[1] for sample in all_samples]))"
   ],
   "metadata": {
    "collapsed": false,
    "pycharm": {
     "name": "#%%\n"
    }
   }
  },
  {
   "cell_type": "code",
   "execution_count": 9,
   "outputs": [],
   "source": [],
   "metadata": {
    "collapsed": false,
    "pycharm": {
     "name": "#%%\n"
    }
   }
  }
 ],
 "metadata": {
  "kernelspec": {
   "display_name": "Python 3",
   "language": "python",
   "name": "python3"
  },
  "language_info": {
   "codemirror_mode": {
    "name": "ipython",
    "version": 2
   },
   "file_extension": ".py",
   "mimetype": "text/x-python",
   "name": "python",
   "nbconvert_exporter": "python",
   "pygments_lexer": "ipython2",
   "version": "2.7.6"
  }
 },
 "nbformat": 4,
 "nbformat_minor": 0
}